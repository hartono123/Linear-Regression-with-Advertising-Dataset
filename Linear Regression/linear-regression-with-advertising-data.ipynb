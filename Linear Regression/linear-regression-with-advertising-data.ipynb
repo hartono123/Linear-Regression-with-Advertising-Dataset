{
 "cells": [
  {
   "cell_type": "code",
   "execution_count": 1,
   "id": "f4cab26d",
   "metadata": {
    "execution": {
     "iopub.execute_input": "2022-07-06T05:21:18.846609Z",
     "iopub.status.busy": "2022-07-06T05:21:18.846004Z",
     "iopub.status.idle": "2022-07-06T05:21:20.104195Z",
     "shell.execute_reply": "2022-07-06T05:21:20.102577Z"
    },
    "id": "dwHM-NcOzo2e",
    "papermill": {
     "duration": 1.274262,
     "end_time": "2022-07-06T05:21:20.107657",
     "exception": false,
     "start_time": "2022-07-06T05:21:18.833395",
     "status": "completed"
    },
    "tags": []
   },
   "outputs": [],
   "source": [
    "import pandas as pd\n",
    "import matplotlib.pyplot as plt\n",
    "import seaborn as sns\n",
    "import numpy as np\n",
    "\n",
    "%matplotlib inline"
   ]
  },
  {
   "cell_type": "code",
   "execution_count": 2,
   "id": "f3939630",
   "metadata": {
    "execution": {
     "iopub.execute_input": "2022-07-06T05:21:20.122597Z",
     "iopub.status.busy": "2022-07-06T05:21:20.121938Z",
     "iopub.status.idle": "2022-07-06T05:21:20.157956Z",
     "shell.execute_reply": "2022-07-06T05:21:20.156808Z"
    },
    "id": "CoV15SnNz-OA",
    "outputId": "e95deb77-113a-49b3-d0ed-29a703fcb1d5",
    "papermill": {
     "duration": 0.046712,
     "end_time": "2022-07-06T05:21:20.160932",
     "exception": false,
     "start_time": "2022-07-06T05:21:20.114220",
     "status": "completed"
    },
    "tags": []
   },
   "outputs": [
    {
     "data": {
      "text/html": [
       "<div>\n",
       "<style scoped>\n",
       "    .dataframe tbody tr th:only-of-type {\n",
       "        vertical-align: middle;\n",
       "    }\n",
       "\n",
       "    .dataframe tbody tr th {\n",
       "        vertical-align: top;\n",
       "    }\n",
       "\n",
       "    .dataframe thead th {\n",
       "        text-align: right;\n",
       "    }\n",
       "</style>\n",
       "<table border=\"1\" class=\"dataframe\">\n",
       "  <thead>\n",
       "    <tr style=\"text-align: right;\">\n",
       "      <th></th>\n",
       "      <th>TV</th>\n",
       "      <th>Radio</th>\n",
       "      <th>Newspaper</th>\n",
       "      <th>Sales</th>\n",
       "    </tr>\n",
       "  </thead>\n",
       "  <tbody>\n",
       "    <tr>\n",
       "      <th>0</th>\n",
       "      <td>230.1</td>\n",
       "      <td>37.8</td>\n",
       "      <td>69.2</td>\n",
       "      <td>22.1</td>\n",
       "    </tr>\n",
       "    <tr>\n",
       "      <th>1</th>\n",
       "      <td>44.5</td>\n",
       "      <td>39.3</td>\n",
       "      <td>45.1</td>\n",
       "      <td>10.4</td>\n",
       "    </tr>\n",
       "    <tr>\n",
       "      <th>2</th>\n",
       "      <td>17.2</td>\n",
       "      <td>45.9</td>\n",
       "      <td>69.3</td>\n",
       "      <td>12.0</td>\n",
       "    </tr>\n",
       "    <tr>\n",
       "      <th>3</th>\n",
       "      <td>151.5</td>\n",
       "      <td>41.3</td>\n",
       "      <td>58.5</td>\n",
       "      <td>16.5</td>\n",
       "    </tr>\n",
       "    <tr>\n",
       "      <th>4</th>\n",
       "      <td>180.8</td>\n",
       "      <td>10.8</td>\n",
       "      <td>58.4</td>\n",
       "      <td>17.9</td>\n",
       "    </tr>\n",
       "  </tbody>\n",
       "</table>\n",
       "</div>"
      ],
      "text/plain": [
       "      TV  Radio  Newspaper  Sales\n",
       "0  230.1   37.8       69.2   22.1\n",
       "1   44.5   39.3       45.1   10.4\n",
       "2   17.2   45.9       69.3   12.0\n",
       "3  151.5   41.3       58.5   16.5\n",
       "4  180.8   10.8       58.4   17.9"
      ]
     },
     "execution_count": 2,
     "metadata": {},
     "output_type": "execute_result"
    }
   ],
   "source": [
    "df = pd.read_csv('../input/advertising-dataset/advertising.csv')\n",
    "df.head()"
   ]
  },
  {
   "cell_type": "code",
   "execution_count": 3,
   "id": "3f0f0fce",
   "metadata": {
    "execution": {
     "iopub.execute_input": "2022-07-06T05:21:20.175939Z",
     "iopub.status.busy": "2022-07-06T05:21:20.175137Z",
     "iopub.status.idle": "2022-07-06T05:21:20.201930Z",
     "shell.execute_reply": "2022-07-06T05:21:20.200524Z"
    },
    "id": "q97I3FM60Geu",
    "outputId": "2fa9c52b-9708-4096-a0af-11f1e09e1b0c",
    "papermill": {
     "duration": 0.03717,
     "end_time": "2022-07-06T05:21:20.204544",
     "exception": false,
     "start_time": "2022-07-06T05:21:20.167374",
     "status": "completed"
    },
    "tags": []
   },
   "outputs": [
    {
     "name": "stdout",
     "output_type": "stream",
     "text": [
      "<class 'pandas.core.frame.DataFrame'>\n",
      "RangeIndex: 200 entries, 0 to 199\n",
      "Data columns (total 4 columns):\n",
      " #   Column     Non-Null Count  Dtype  \n",
      "---  ------     --------------  -----  \n",
      " 0   TV         200 non-null    float64\n",
      " 1   Radio      200 non-null    float64\n",
      " 2   Newspaper  200 non-null    float64\n",
      " 3   Sales      200 non-null    float64\n",
      "dtypes: float64(4)\n",
      "memory usage: 6.4 KB\n"
     ]
    }
   ],
   "source": [
    "df.info()"
   ]
  },
  {
   "cell_type": "code",
   "execution_count": 4,
   "id": "2f7923fb",
   "metadata": {
    "execution": {
     "iopub.execute_input": "2022-07-06T05:21:20.219095Z",
     "iopub.status.busy": "2022-07-06T05:21:20.218689Z",
     "iopub.status.idle": "2022-07-06T05:21:20.245423Z",
     "shell.execute_reply": "2022-07-06T05:21:20.244202Z"
    },
    "id": "CbvUJKfC0IIh",
    "outputId": "3a68b942-c682-44a7-f340-aa85e8154e3c",
    "papermill": {
     "duration": 0.037036,
     "end_time": "2022-07-06T05:21:20.247984",
     "exception": false,
     "start_time": "2022-07-06T05:21:20.210948",
     "status": "completed"
    },
    "tags": []
   },
   "outputs": [
    {
     "data": {
      "text/html": [
       "<div>\n",
       "<style scoped>\n",
       "    .dataframe tbody tr th:only-of-type {\n",
       "        vertical-align: middle;\n",
       "    }\n",
       "\n",
       "    .dataframe tbody tr th {\n",
       "        vertical-align: top;\n",
       "    }\n",
       "\n",
       "    .dataframe thead th {\n",
       "        text-align: right;\n",
       "    }\n",
       "</style>\n",
       "<table border=\"1\" class=\"dataframe\">\n",
       "  <thead>\n",
       "    <tr style=\"text-align: right;\">\n",
       "      <th></th>\n",
       "      <th>TV</th>\n",
       "      <th>Radio</th>\n",
       "      <th>Newspaper</th>\n",
       "      <th>Sales</th>\n",
       "    </tr>\n",
       "  </thead>\n",
       "  <tbody>\n",
       "    <tr>\n",
       "      <th>count</th>\n",
       "      <td>200.000000</td>\n",
       "      <td>200.000000</td>\n",
       "      <td>200.000000</td>\n",
       "      <td>200.000000</td>\n",
       "    </tr>\n",
       "    <tr>\n",
       "      <th>mean</th>\n",
       "      <td>147.042500</td>\n",
       "      <td>23.264000</td>\n",
       "      <td>30.554000</td>\n",
       "      <td>15.130500</td>\n",
       "    </tr>\n",
       "    <tr>\n",
       "      <th>std</th>\n",
       "      <td>85.854236</td>\n",
       "      <td>14.846809</td>\n",
       "      <td>21.778621</td>\n",
       "      <td>5.283892</td>\n",
       "    </tr>\n",
       "    <tr>\n",
       "      <th>min</th>\n",
       "      <td>0.700000</td>\n",
       "      <td>0.000000</td>\n",
       "      <td>0.300000</td>\n",
       "      <td>1.600000</td>\n",
       "    </tr>\n",
       "    <tr>\n",
       "      <th>25%</th>\n",
       "      <td>74.375000</td>\n",
       "      <td>9.975000</td>\n",
       "      <td>12.750000</td>\n",
       "      <td>11.000000</td>\n",
       "    </tr>\n",
       "    <tr>\n",
       "      <th>50%</th>\n",
       "      <td>149.750000</td>\n",
       "      <td>22.900000</td>\n",
       "      <td>25.750000</td>\n",
       "      <td>16.000000</td>\n",
       "    </tr>\n",
       "    <tr>\n",
       "      <th>75%</th>\n",
       "      <td>218.825000</td>\n",
       "      <td>36.525000</td>\n",
       "      <td>45.100000</td>\n",
       "      <td>19.050000</td>\n",
       "    </tr>\n",
       "    <tr>\n",
       "      <th>max</th>\n",
       "      <td>296.400000</td>\n",
       "      <td>49.600000</td>\n",
       "      <td>114.000000</td>\n",
       "      <td>27.000000</td>\n",
       "    </tr>\n",
       "  </tbody>\n",
       "</table>\n",
       "</div>"
      ],
      "text/plain": [
       "               TV       Radio   Newspaper       Sales\n",
       "count  200.000000  200.000000  200.000000  200.000000\n",
       "mean   147.042500   23.264000   30.554000   15.130500\n",
       "std     85.854236   14.846809   21.778621    5.283892\n",
       "min      0.700000    0.000000    0.300000    1.600000\n",
       "25%     74.375000    9.975000   12.750000   11.000000\n",
       "50%    149.750000   22.900000   25.750000   16.000000\n",
       "75%    218.825000   36.525000   45.100000   19.050000\n",
       "max    296.400000   49.600000  114.000000   27.000000"
      ]
     },
     "execution_count": 4,
     "metadata": {},
     "output_type": "execute_result"
    }
   ],
   "source": [
    "df.describe()"
   ]
  },
  {
   "cell_type": "code",
   "execution_count": 5,
   "id": "2a466884",
   "metadata": {
    "execution": {
     "iopub.execute_input": "2022-07-06T05:21:20.263503Z",
     "iopub.status.busy": "2022-07-06T05:21:20.262509Z",
     "iopub.status.idle": "2022-07-06T05:21:20.270430Z",
     "shell.execute_reply": "2022-07-06T05:21:20.268294Z"
    },
    "id": "AiEKpcEu0OM_",
    "outputId": "693f550d-784a-48b9-df12-603ae745b3ae",
    "papermill": {
     "duration": 0.019565,
     "end_time": "2022-07-06T05:21:20.274214",
     "exception": false,
     "start_time": "2022-07-06T05:21:20.254649",
     "status": "completed"
    },
    "tags": []
   },
   "outputs": [
    {
     "data": {
      "text/plain": [
       "(200, 4)"
      ]
     },
     "execution_count": 5,
     "metadata": {},
     "output_type": "execute_result"
    }
   ],
   "source": [
    "df.shape"
   ]
  },
  {
   "cell_type": "code",
   "execution_count": 6,
   "id": "f699efce",
   "metadata": {
    "execution": {
     "iopub.execute_input": "2022-07-06T05:21:20.292586Z",
     "iopub.status.busy": "2022-07-06T05:21:20.292165Z",
     "iopub.status.idle": "2022-07-06T05:21:20.301755Z",
     "shell.execute_reply": "2022-07-06T05:21:20.300861Z"
    },
    "id": "pIjx1pws0Ql7",
    "outputId": "1fc7b9e5-a88d-4b9a-b9ee-cb0a8868df2a",
    "papermill": {
     "duration": 0.021293,
     "end_time": "2022-07-06T05:21:20.304162",
     "exception": false,
     "start_time": "2022-07-06T05:21:20.282869",
     "status": "completed"
    },
    "tags": []
   },
   "outputs": [
    {
     "data": {
      "text/plain": [
       "TV           0\n",
       "Radio        0\n",
       "Newspaper    0\n",
       "Sales        0\n",
       "dtype: int64"
      ]
     },
     "execution_count": 6,
     "metadata": {},
     "output_type": "execute_result"
    }
   ],
   "source": [
    "df.isna().sum()"
   ]
  },
  {
   "cell_type": "code",
   "execution_count": 7,
   "id": "d257c100",
   "metadata": {
    "execution": {
     "iopub.execute_input": "2022-07-06T05:21:20.327612Z",
     "iopub.status.busy": "2022-07-06T05:21:20.326248Z",
     "iopub.status.idle": "2022-07-06T05:21:20.530204Z",
     "shell.execute_reply": "2022-07-06T05:21:20.528886Z"
    },
    "id": "qtssMjFK0giG",
    "outputId": "bb482071-16f7-4835-8141-8baab4a7c731",
    "papermill": {
     "duration": 0.21854,
     "end_time": "2022-07-06T05:21:20.532847",
     "exception": false,
     "start_time": "2022-07-06T05:21:20.314307",
     "status": "completed"
    },
    "tags": []
   },
   "outputs": [
    {
     "name": "stderr",
     "output_type": "stream",
     "text": [
      "/opt/conda/lib/python3.7/site-packages/seaborn/_decorators.py:43: FutureWarning: Pass the following variable as a keyword arg: x. From version 0.12, the only valid positional argument will be `data`, and passing other arguments without an explicit keyword will result in an error or misinterpretation.\n",
      "  FutureWarning\n"
     ]
    },
    {
     "data": {
      "image/png": "[encoded data removed]",
      "text/plain": [
       "<Figure size 432x288 with 1 Axes>"
      ]
     },
     "metadata": {
      "needs_background": "light"
     },
     "output_type": "display_data"
    }
   ],
   "source": [
    "sns.boxplot(df['Sales'])\n",
    "plt.show()"
   ]
  },
  {
   "cell_type": "code",
   "execution_count": 8,
   "id": "3e94695b",
   "metadata": {
    "execution": {
     "iopub.execute_input": "2022-07-06T05:21:20.549348Z",
     "iopub.status.busy": "2022-07-06T05:21:20.548743Z",
     "iopub.status.idle": "2022-07-06T05:21:20.823187Z",
     "shell.execute_reply": "2022-07-06T05:21:20.822070Z"
    },
    "id": "vctCWnJb2pa0",
    "outputId": "a1509833-3bbc-4d36-b4e3-a132e060dd40",
    "papermill": {
     "duration": 0.285538,
     "end_time": "2022-07-06T05:21:20.825575",
     "exception": false,
     "start_time": "2022-07-06T05:21:20.540037",
     "status": "completed"
    },
    "tags": []
   },
   "outputs": [
    {
     "data": {
      "image/png": "[encoded data removed]",
      "text/plain": [
       "<Figure size 432x288 with 2 Axes>"
      ]
     },
     "metadata": {
      "needs_background": "light"
     },
     "output_type": "display_data"
    }
   ],
   "source": [
    "sns.heatmap(df.corr(), annot = True)\n",
    "plt.show()"
   ]
  },
  {
   "cell_type": "code",
   "execution_count": 9,
   "id": "73578ea6",
   "metadata": {
    "execution": {
     "iopub.execute_input": "2022-07-06T05:21:20.842473Z",
     "iopub.status.busy": "2022-07-06T05:21:20.841567Z",
     "iopub.status.idle": "2022-07-06T05:21:20.849991Z",
     "shell.execute_reply": "2022-07-06T05:21:20.848853Z"
    },
    "id": "KMIr0D2b3cPA",
    "outputId": "65fc9ff4-28da-4236-debd-c9e109217d90",
    "papermill": {
     "duration": 0.020038,
     "end_time": "2022-07-06T05:21:20.852915",
     "exception": false,
     "start_time": "2022-07-06T05:21:20.832877",
     "status": "completed"
    },
    "tags": []
   },
   "outputs": [
    {
     "data": {
      "text/plain": [
       "0    230.1\n",
       "1     44.5\n",
       "2     17.2\n",
       "3    151.5\n",
       "4    180.8\n",
       "Name: TV, dtype: float64"
      ]
     },
     "execution_count": 9,
     "metadata": {},
     "output_type": "execute_result"
    }
   ],
   "source": [
    "X = df['TV']\n",
    "X.head()"
   ]
  },
  {
   "cell_type": "code",
   "execution_count": 10,
   "id": "e64675d0",
   "metadata": {
    "execution": {
     "iopub.execute_input": "2022-07-06T05:21:20.870044Z",
     "iopub.status.busy": "2022-07-06T05:21:20.869364Z",
     "iopub.status.idle": "2022-07-06T05:21:20.879019Z",
     "shell.execute_reply": "2022-07-06T05:21:20.877946Z"
    },
    "id": "YcSav3AN3fmv",
    "outputId": "8c46eab8-24b6-4517-856a-627c009a032f",
    "papermill": {
     "duration": 0.020869,
     "end_time": "2022-07-06T05:21:20.881302",
     "exception": false,
     "start_time": "2022-07-06T05:21:20.860433",
     "status": "completed"
    },
    "tags": []
   },
   "outputs": [
    {
     "data": {
      "text/plain": [
       "0    22.1\n",
       "1    10.4\n",
       "2    12.0\n",
       "3    16.5\n",
       "4    17.9\n",
       "Name: Sales, dtype: float64"
      ]
     },
     "execution_count": 10,
     "metadata": {},
     "output_type": "execute_result"
    }
   ],
   "source": [
    "y = df['Sales']\n",
    "y.head()"
   ]
  },
  {
   "cell_type": "code",
   "execution_count": 11,
   "id": "11fe82e8",
   "metadata": {
    "execution": {
     "iopub.execute_input": "2022-07-06T05:21:20.899302Z",
     "iopub.status.busy": "2022-07-06T05:21:20.898407Z",
     "iopub.status.idle": "2022-07-06T05:21:21.115983Z",
     "shell.execute_reply": "2022-07-06T05:21:21.114856Z"
    },
    "id": "_ZSQDJ-L3kpX",
    "papermill": {
     "duration": 0.229731,
     "end_time": "2022-07-06T05:21:21.118825",
     "exception": false,
     "start_time": "2022-07-06T05:21:20.889094",
     "status": "completed"
    },
    "tags": []
   },
   "outputs": [],
   "source": [
    "from sklearn.model_selection import train_test_split\n",
    "X_train,X_test,y_train,y_test = train_test_split(X,y,train_size=0.7,random_state=100)"
   ]
  },
  {
   "cell_type": "code",
   "execution_count": 12,
   "id": "60cd6122",
   "metadata": {
    "execution": {
     "iopub.execute_input": "2022-07-06T05:21:21.136468Z",
     "iopub.status.busy": "2022-07-06T05:21:21.135503Z",
     "iopub.status.idle": "2022-07-06T05:21:21.142502Z",
     "shell.execute_reply": "2022-07-06T05:21:21.141081Z"
    },
    "id": "DKnRYt-b3tEt",
    "outputId": "d97f20b2-4bda-46e3-aef5-9f7f8b6a33e9",
    "papermill": {
     "duration": 0.01902,
     "end_time": "2022-07-06T05:21:21.145651",
     "exception": false,
     "start_time": "2022-07-06T05:21:21.126631",
     "status": "completed"
    },
    "tags": []
   },
   "outputs": [
    {
     "name": "stderr",
     "output_type": "stream",
     "text": [
      "/opt/conda/lib/python3.7/site-packages/ipykernel_launcher.py:1: FutureWarning: Support for multi-dimensional indexing (e.g. `obj[:, None]`) is deprecated and will be removed in a future version.  Convert to a numpy array before indexing instead.\n",
      "  \"\"\"Entry point for launching an IPython kernel.\n",
      "/opt/conda/lib/python3.7/site-packages/ipykernel_launcher.py:2: FutureWarning: Support for multi-dimensional indexing (e.g. `obj[:, None]`) is deprecated and will be removed in a future version.  Convert to a numpy array before indexing instead.\n",
      "  \n"
     ]
    }
   ],
   "source": [
    "X_train = X_train[:,np.newaxis]\n",
    "X_test = X_test[:,np.newaxis]"
   ]
  },
  {
   "cell_type": "code",
   "execution_count": 13,
   "id": "689cbefc",
   "metadata": {
    "execution": {
     "iopub.execute_input": "2022-07-06T05:21:21.172789Z",
     "iopub.status.busy": "2022-07-06T05:21:21.171796Z",
     "iopub.status.idle": "2022-07-06T05:21:21.287399Z",
     "shell.execute_reply": "2022-07-06T05:21:21.286138Z"
    },
    "id": "vN-ZI9IQ33lp",
    "outputId": "48a3c34b-e1ea-4ae8-d50c-10f72daf2ae5",
    "papermill": {
     "duration": 0.131366,
     "end_time": "2022-07-06T05:21:21.289980",
     "exception": false,
     "start_time": "2022-07-06T05:21:21.158614",
     "status": "completed"
    },
    "tags": []
   },
   "outputs": [
    {
     "data": {
      "text/plain": [
       "LinearRegression()"
      ]
     },
     "execution_count": 13,
     "metadata": {},
     "output_type": "execute_result"
    }
   ],
   "source": [
    "from sklearn.linear_model import LinearRegression\n",
    "\n",
    "lr = LinearRegression()\n",
    "lr.fit(X_train,y_train)"
   ]
  },
  {
   "cell_type": "code",
   "execution_count": 14,
   "id": "f64a5914",
   "metadata": {
    "execution": {
     "iopub.execute_input": "2022-07-06T05:21:21.308534Z",
     "iopub.status.busy": "2022-07-06T05:21:21.308099Z",
     "iopub.status.idle": "2022-07-06T05:21:21.314559Z",
     "shell.execute_reply": "2022-07-06T05:21:21.313214Z"
    },
    "id": "47FQgLAd4Br0",
    "papermill": {
     "duration": 0.019064,
     "end_time": "2022-07-06T05:21:21.317075",
     "exception": false,
     "start_time": "2022-07-06T05:21:21.298011",
     "status": "completed"
    },
    "tags": []
   },
   "outputs": [],
   "source": [
    "y_pred = lr.predict(X_test)"
   ]
  },
  {
   "cell_type": "code",
   "execution_count": 15,
   "id": "65d43515",
   "metadata": {
    "execution": {
     "iopub.execute_input": "2022-07-06T05:21:21.335329Z",
     "iopub.status.busy": "2022-07-06T05:21:21.334556Z",
     "iopub.status.idle": "2022-07-06T05:21:21.549572Z",
     "shell.execute_reply": "2022-07-06T05:21:21.548459Z"
    },
    "id": "mK4bZ6Po4FQB",
    "outputId": "fc62afe1-8fa7-4c6b-dceb-cf328b94d312",
    "papermill": {
     "duration": 0.22711,
     "end_time": "2022-07-06T05:21:21.552072",
     "exception": false,
     "start_time": "2022-07-06T05:21:21.324962",
     "status": "completed"
    },
    "tags": []
   },
   "outputs": [
    {
     "data": {
      "image/png": "[encoded data removed]",
      "text/plain": [
       "<Figure size 432x288 with 1 Axes>"
      ]
     },
     "metadata": {
      "needs_background": "light"
     },
     "output_type": "display_data"
    }
   ],
   "source": [
    "c = [i for i in range (1,len(y_test)+1,1)]\n",
    "plt.plot(c,y_test,color='r',linestyle='-')\n",
    "plt.plot(c,y_pred,color='b',linestyle='-')\n",
    "plt.xlabel('Sales')\n",
    "plt.ylabel('index')\n",
    "plt.title('Prediction')\n",
    "plt.show()"
   ]
  },
  {
   "cell_type": "code",
   "execution_count": 16,
   "id": "a346d8ac",
   "metadata": {
    "execution": {
     "iopub.execute_input": "2022-07-06T05:21:21.571743Z",
     "iopub.status.busy": "2022-07-06T05:21:21.571132Z",
     "iopub.status.idle": "2022-07-06T05:21:21.756217Z",
     "shell.execute_reply": "2022-07-06T05:21:21.755062Z"
    },
    "id": "OyS9aSdS4reG",
    "outputId": "c8fa0417-3ba0-4a3e-e870-de673a67eb05",
    "papermill": {
     "duration": 0.197762,
     "end_time": "2022-07-06T05:21:21.758569",
     "exception": false,
     "start_time": "2022-07-06T05:21:21.560807",
     "status": "completed"
    },
    "tags": []
   },
   "outputs": [
    {
     "data": {
      "image/png": "[encoded data removed]",
      "text/plain": [
       "<Figure size 432x288 with 1 Axes>"
      ]
     },
     "metadata": {
      "needs_background": "light"
     },
     "output_type": "display_data"
    }
   ],
   "source": [
    "# plotting the error\n",
    "c = [i for i in range(1,len(y_test)+1,1)]\n",
    "plt.plot(c,y_test-y_pred,color='green',linestyle='-')\n",
    "plt.xlabel('index')\n",
    "plt.ylabel('Error')\n",
    "plt.title('Error Value')\n",
    "plt.show()"
   ]
  },
  {
   "cell_type": "code",
   "execution_count": 17,
   "id": "c5f98af0",
   "metadata": {
    "execution": {
     "iopub.execute_input": "2022-07-06T05:21:21.778319Z",
     "iopub.status.busy": "2022-07-06T05:21:21.777973Z",
     "iopub.status.idle": "2022-07-06T05:21:21.786559Z",
     "shell.execute_reply": "2022-07-06T05:21:21.785258Z"
    },
    "id": "YhqYeBHO4y3M",
    "outputId": "ef34c10f-6d6c-4334-a4cb-a97c06c77a4e",
    "papermill": {
     "duration": 0.021918,
     "end_time": "2022-07-06T05:21:21.789666",
     "exception": false,
     "start_time": "2022-07-06T05:21:21.767748",
     "status": "completed"
    },
    "tags": []
   },
   "outputs": [
    {
     "name": "stdout",
     "output_type": "stream",
     "text": [
      "mean squared error : 4.077556371826948\n",
      "r square : 0.7921031601245662\n"
     ]
    }
   ],
   "source": [
    "from sklearn.metrics import r2_score,mean_squared_error\n",
    "mse = mean_squared_error(y_test,y_pred)\n",
    "rsq = r2_score(y_test,y_pred)\n",
    "print('mean squared error :',mse)\n",
    "print('r square :',rsq)"
   ]
  },
  {
   "cell_type": "code",
   "execution_count": 18,
   "id": "e32bbea8",
   "metadata": {
    "execution": {
     "iopub.execute_input": "2022-07-06T05:21:21.810637Z",
     "iopub.status.busy": "2022-07-06T05:21:21.810236Z",
     "iopub.status.idle": "2022-07-06T05:21:22.031450Z",
     "shell.execute_reply": "2022-07-06T05:21:22.030191Z"
    },
    "id": "eGNscRbk47Pj",
    "outputId": "621f4e5a-3a23-4f7c-d177-61abc6363279",
    "papermill": {
     "duration": 0.234737,
     "end_time": "2022-07-06T05:21:22.034036",
     "exception": false,
     "start_time": "2022-07-06T05:21:21.799299",
     "status": "completed"
    },
    "tags": []
   },
   "outputs": [
    {
     "data": {
      "image/png": "[encoded data removed]",
      "text/plain": [
       "<Figure size 864x432 with 1 Axes>"
      ]
     },
     "metadata": {
      "needs_background": "light"
     },
     "output_type": "display_data"
    }
   ],
   "source": [
    "plt.figure(figsize=(12,6))\n",
    "plt.scatter(y_test,y_pred,color='r',linestyle='-')\n",
    "plt.show()"
   ]
  },
  {
   "cell_type": "code",
   "execution_count": 19,
   "id": "b5fc4b14",
   "metadata": {
    "execution": {
     "iopub.execute_input": "2022-07-06T05:21:22.054942Z",
     "iopub.status.busy": "2022-07-06T05:21:22.054546Z",
     "iopub.status.idle": "2022-07-06T05:21:22.060431Z",
     "shell.execute_reply": "2022-07-06T05:21:22.059304Z"
    },
    "id": "5duPMIak5BUF",
    "outputId": "213f6052-009f-4957-e949-987ba3fbb254",
    "papermill": {
     "duration": 0.019799,
     "end_time": "2022-07-06T05:21:22.063202",
     "exception": false,
     "start_time": "2022-07-06T05:21:22.043403",
     "status": "completed"
    },
    "tags": []
   },
   "outputs": [
    {
     "name": "stdout",
     "output_type": "stream",
     "text": [
      "Intercept of the model: 6.948683200001357\n",
      "Coefficient of the line: [0.05454575]\n"
     ]
    }
   ],
   "source": [
    "print('Intercept of the model:',lr.intercept_)\n",
    "print('Coefficient of the line:',lr.coef_)"
   ]
  }
 ],
 "metadata": {
  "kernelspec": {
   "display_name": "Python 3",
   "language": "python",
   "name": "python3"
  },
  "language_info": {
   "codemirror_mode": {
    "name": "ipython",
    "version": 3
   },
   "file_extension": ".py",
   "mimetype": "text/x-python",
   "name": "python",
   "nbconvert_exporter": "python",
   "pygments_lexer": "ipython3",
   "version": "3.7.12"
  },
  "papermill": {
   "default_parameters": {},
   "duration": 14.670086,
   "end_time": "2022-07-06T05:21:22.895389",
   "environment_variables": {},
   "exception": null,
   "input_path": "__notebook__.ipynb",
   "output_path": "__notebook__.ipynb",
   "parameters": {},
   "start_time": "2022-07-06T05:21:08.225303",
   "version": "2.3.4"
  }
 },
 "nbformat": 4,
 "nbformat_minor": 5
}
